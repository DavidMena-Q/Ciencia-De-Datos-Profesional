{
 "cells": [
  {
   "cell_type": "code",
   "execution_count": 1,
   "metadata": {},
   "outputs": [],
   "source": [
    "# modules\n",
    "import matplotlib.pyplot as plt  # Graficar\n",
    "import numpy as np               # manejo de vectores y utilidades matemáticas"
   ]
  },
  {
   "cell_type": "code",
   "execution_count": 2,
   "metadata": {},
   "outputs": [],
   "source": [
    "def estimate_b_b1(x, y):\n",
    "    # n = np.size(x)\n",
    "\n",
    "    #promedios\n",
    "    m_x, m_y = np.mean(x), np.mean(y)\n",
    "\n",
    "    #calcular sumatoria XY y XX\n",
    "    sumatoria_xy = np.sum((x-m_x)*(y-m_y))\n",
    "    sumatoria_xx = np.sum(x*(x-m_x))\n",
    "\n",
    "    #coeficientes de regresion\n",
    "    b_1 = sumatoria_xy / sumatoria_xx\n",
    "    b_0 = m_y - b_1 * m_x\n",
    "\n",
    "    return(b_0, b_1)\n",
    "\n"
   ]
  },
  {
   "cell_type": "code",
   "execution_count": 3,
   "metadata": {},
   "outputs": [],
   "source": [
    "#funcion de graficado\n",
    "def plot_regresion(x, y, b):\n",
    "    plt.scatter(x, y, color='b', marker='o', s=30)\n",
    "\n",
    "\n",
    "    y_pred = b[0] + b[1]*x\n",
    "    plt.plot(x, y_pred, color='r')\n",
    "\n",
    "    #etiquetado\n",
    "    plt.xlabel('x-independent')\n",
    "    plt.ylabel('y-dependent')\n",
    "\n",
    "    plt.show() \n",
    "    \n",
    "                \n",
    "\n",
    "     "
   ]
  },
  {
   "cell_type": "code",
   "execution_count": 4,
   "metadata": {},
   "outputs": [
    {
     "name": "stdout",
     "output_type": "stream",
     "text": [
      "Los valores b0 = -1.066666666666666, b1 = 1.4\n"
     ]
    },
    {
     "data": {
      "image/png": "[encoded data removed]",
      "text/plain": [
       "<Figure size 432x288 with 1 Axes>"
      ]
     },
     "metadata": {
      "needs_background": "light"
     },
     "output_type": "display_data"
    }
   ],
   "source": [
    "#codigo main\n",
    "def main():\n",
    "    #Dataset\n",
    "    x = np.array([1, 2, 3, 4, 5, 6])\n",
    "    y = np.array([0, 4, 2, 3, 5, 9])\n",
    "\n",
    "    #obtenemos b1 y b2\n",
    "    b = estimate_b_b1(x, y)\n",
    "    print(f'Los valores b0 = {b[0]}, b1 = {b[1]}')\n",
    "\n",
    "    #graficamos nuestra linea de regresion \n",
    "\n",
    "    plot_regresion(x, y, b)\n",
    "\n",
    "if __name__ == \"__main__\":\n",
    "    main()"
   ]
  },
  {
   "cell_type": "code",
   "execution_count": null,
   "metadata": {},
   "outputs": [],
   "source": []
  }
 ],
 "metadata": {
  "interpreter": {
   "hash": "364766969651cf5dd8d490e5d9e3350c51e98f79ea9c52a245159186b6b5bac4"
  },
  "kernelspec": {
   "display_name": "Python 3.9.5 64-bit ('science': conda)",
   "name": "python3"
  },
  "language_info": {
   "codemirror_mode": {
    "name": "ipython",
    "version": 3
   },
   "file_extension": ".py",
   "mimetype": "text/x-python",
   "name": "python",
   "nbconvert_exporter": "python",
   "pygments_lexer": "ipython3",
   "version": "3.9.5"
  },
  "orig_nbformat": 4
 },
 "nbformat": 4,
 "nbformat_minor": 2
}
