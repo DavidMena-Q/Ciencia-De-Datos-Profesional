{
 "cells": [
  {
   "cell_type": "code",
   "execution_count": 2,
   "metadata": {},
   "outputs": [],
   "source": [
    "import numpy as np"
   ]
  },
  {
   "cell_type": "code",
   "execution_count": 3,
   "metadata": {},
   "outputs": [],
   "source": [
    "header = [ ('Nombre', 'U10'), ('Edad', 'i8'), ('País', 'U10')]\n",
    "data = [ ('Elías', 32, 'Alemania'), ('Parcu', 54, 'Francia'), \n",
    "        ('Paul', 28, 'Argentina'), ('Erick', 35, 'Mexico'), \n",
    "        ('Amparo', 30, 'Uruguay')]\n",
    "\n",
    "users = np.array(data, dtype = header)\n",
    "\n",
    "pais = np.sort(users, order = 'País')\n",
    "nombre = np.sort(users, order = 'Nombre')\n",
    "edad = np.sort(users, order = 'Edad')\n"
   ]
  },
  {
   "cell_type": "code",
   "execution_count": 4,
   "metadata": {},
   "outputs": [
    {
     "name": "stdout",
     "output_type": "stream",
     "text": [
      "\n",
      "        filter by name\n",
      "      ['Javier', 'Juan', 'María', 'Samuel']\n",
      "      ['Javier', 'Juan', 'María', 'Samuel']\n",
      "        \n",
      "        filter by age\n",
      "      [10, 15, 42, 70]\n",
      "      [10, 15, 42, 70]\n",
      "        \n",
      "        filter by country\n",
      "      ['Argentina', 'Brazil', 'México', 'Perú']\n",
      "      ['Argentina', 'Brazil', 'México', 'Perú']\n",
      "      \n"
     ]
    }
   ],
   "source": [
    "cabeceras = [('nombre', 'U10'), ('edad','i8'), ('país','U10')]\n",
    "\n",
    "datos = [('Juan',10,'México'), ('María',70,'Argentina'), ('Javier',42,'Brazil'), ('Samuel',15,'Perú')]\n",
    "\n",
    "usuarios = np.array(datos, dtype = cabeceras)\n",
    "\n",
    "ageFilter    = np.sort(usuarios, order = 'edad')\n",
    "\n",
    "contryFilter = np.sort(usuarios, order = 'país')\n",
    "\n",
    "nameFilter   = np.sort(usuarios, order = 'nombre')\n",
    "\n",
    "print(f'''\n",
    "        filter by name\n",
    "      {[(usuario['nombre']) for usuario in nameFilter]}\n",
    "      {list(map(lambda usuario: usuario['nombre'],nameFilter))}\n",
    "        \n",
    "        filter by age\n",
    "      {[(usuario['edad']) for usuario in ageFilter]}\n",
    "      {list(map(lambda usuario: usuario['edad'],ageFilter))}\n",
    "        \n",
    "        filter by country\n",
    "      {[(usuario['país']) for usuario in contryFilter]}\n",
    "      {list(map(lambda usuario: usuario['país'],contryFilter))}\n",
    "      ''')\n"
   ]
  },
  {
   "cell_type": "code",
   "execution_count": 5,
   "metadata": {},
   "outputs": [
    {
     "data": {
      "text/plain": [
       "array([0, 1, 2, 3, 4])"
      ]
     },
     "execution_count": 5,
     "metadata": {},
     "output_type": "execute_result"
    }
   ],
   "source": [
    "np.arange(5)"
   ]
  }
 ],
 "metadata": {
  "interpreter": {
   "hash": "364766969651cf5dd8d490e5d9e3350c51e98f79ea9c52a245159186b6b5bac4"
  },
  "kernelspec": {
   "display_name": "Python 3.9.5 64-bit ('science': conda)",
   "name": "python3"
  },
  "language_info": {
   "codemirror_mode": {
    "name": "ipython",
    "version": 3
   },
   "file_extension": ".py",
   "mimetype": "text/x-python",
   "name": "python",
   "nbconvert_exporter": "python",
   "pygments_lexer": "ipython3",
   "version": "3.9.5"
  },
  "orig_nbformat": 4
 },
 "nbformat": 4,
 "nbformat_minor": 2
}
